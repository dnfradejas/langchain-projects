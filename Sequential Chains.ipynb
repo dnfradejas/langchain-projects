{
 "cells": [
  {
   "cell_type": "markdown",
   "id": "8b107771",
   "metadata": {},
   "source": [
    "# Sequential Chains\n",
    "* Output -> input"
   ]
  },
  {
   "cell_type": "code",
   "execution_count": null,
   "id": "5a803638",
   "metadata": {},
   "outputs": [],
   "source": [
    "from langchain_core.prompts import PromptTemplate\n",
    "from langchain_openai import ChatOpenAI\n",
    "from langchain_core.output_parsers import StrOutputParser\n",
    "\n",
    "destination_prompt = PromptTemplate(\n",
    "    input_variables=[\"destination\"],\n",
    "    template=\"I am planning a trip to {destination}. Can you suggest some activities to do there?\"\n",
    ")\n",
    "\n",
    "activities_prompt = PromptTemplate(\n",
    "    input_variables=[\"activities\"],\n",
    "    template=\"I only have one day, so can create an itinerary from your top three activities: {activities}.\"\n",
    ")\n",
    "\n",
    "llm = ChatOpenAI(\n",
    "    model=\"gpt-40-mini\", api_key=\"KEY\")\n",
    "\n",
    "seq_chain = ({\"activities\": destination_prompt | llm | StrOutputParser()}\n",
    "            | activities_prompt \n",
    "            | llm \n",
    "            | StrOutputParser())\n",
    "\n",
    "print(seq_chain.invoke({\"destination\": \"Rome\"}))\n"
   ]
  },
  {
   "cell_type": "markdown",
   "id": "068c569f",
   "metadata": {},
   "source": [
    "## Sequential Chains with LCEL\n",
    "\n",
    "With your prompt templates created, it's time to tie everything together, including the LLM, using chains and LCEL. An llm has already been defined for you that uses OpenAI's gpt-4o-mini model\n",
    "\n",
    "For the final step of calling the chain, feel free to insert any activity you wish! If you're struggling for ideas, try inputting \"play the harmonica\"."
   ]
  },
  {
   "cell_type": "code",
   "execution_count": null,
   "id": "21098af8",
   "metadata": {},
   "outputs": [],
   "source": [
    "learning_prompt = PromptTemplate(\n",
    "    input_variables=[\"activity\"],\n",
    "    template=\"I want to learn how to {activity}. Can you suggest how I can learn this step-by-step?\"\n",
    ")\n",
    "\n",
    "time_prompt = PromptTemplate(\n",
    "    input_variables=[\"learning_plan\"],\n",
    "    template=\"I only have one week. Can you create a concise plan to help me hit this goal: {learning_plan}.\"\n",
    ")\n",
    "\n",
    "# Complete the sequential chain with LCEL\n",
    "seq_chain = ({\"learning_plan\": learning_prompt | llm | StrOutputParser()}\n",
    "    | time_prompt\n",
    "    | llm\n",
    "    | StrOutputParser())\n",
    "\n",
    "# Call the chain\n",
    "print(seq_chain.invoke({\"activity\": \"play the harmonica\"}))"
   ]
  }
 ],
 "metadata": {
  "kernelspec": {
   "display_name": ".venv",
   "language": "python",
   "name": "python3"
  },
  "language_info": {
   "name": "python",
   "version": "3.13.2"
  }
 },
 "nbformat": 4,
 "nbformat_minor": 5
}
